{
  "nbformat": 4,
  "nbformat_minor": 0,
  "metadata": {
    "colab": {
      "provenance": [],
      "authorship_tag": "ABX9TyPdjWOQnSqpUmoA6upMxU22",
      "include_colab_link": true
    },
    "kernelspec": {
      "name": "python3",
      "display_name": "Python 3"
    },
    "language_info": {
      "name": "python"
    }
  },
  "cells": [
    {
      "cell_type": "markdown",
      "metadata": {
        "id": "view-in-github",
        "colab_type": "text"
      },
      "source": [
        "<a href=\"https://colab.research.google.com/github/PavinSP/PavinSP.github.io/blob/main/BroCode_File_Detection.ipynb\" target=\"_parent\"><img src=\"https://colab.research.google.com/assets/colab-badge.svg\" alt=\"Open In Colab\"/></a>"
      ]
    },
    {
      "cell_type": "code",
      "execution_count": 1,
      "metadata": {
        "id": "xXEPTmTvNwls"
      },
      "outputs": [],
      "source": [
        "import os"
      ]
    },
    {
      "cell_type": "code",
      "source": [
        "path = '/test.txt'"
      ],
      "metadata": {
        "id": "8QwDvmN6OdnH"
      },
      "execution_count": 6,
      "outputs": []
    },
    {
      "cell_type": "markdown",
      "source": [
        "## Check if path exists"
      ],
      "metadata": {
        "id": "VGZSPEYOPCNL"
      }
    },
    {
      "cell_type": "code",
      "source": [
        "if os.path.exists(path):\n",
        "  print('That location exists')\n",
        "else:\n",
        "  print('That location doesn\\'t exists')"
      ],
      "metadata": {
        "colab": {
          "base_uri": "https://localhost:8080/"
        },
        "id": "xiklXJZiO9oP",
        "outputId": "9011c0f0-022a-482b-ff0c-4f21b77f0484"
      },
      "execution_count": 7,
      "outputs": [
        {
          "output_type": "stream",
          "name": "stdout",
          "text": [
            "That location exists\n"
          ]
        }
      ]
    },
    {
      "cell_type": "markdown",
      "source": [
        "## Check if its a file or not\n"
      ],
      "metadata": {
        "id": "JcQ6JRObQJ_f"
      }
    },
    {
      "cell_type": "code",
      "source": [
        "if os.path.exists(path):\n",
        "  print('That location exists')\n",
        "  if os.path.isfile(path):\n",
        "    print('That is a file')\n",
        "else:\n",
        "  print('That location doesn\\'t exists')"
      ],
      "metadata": {
        "colab": {
          "base_uri": "https://localhost:8080/"
        },
        "id": "CUr-bWkRPfqh",
        "outputId": "bb09061d-5354-45e3-b926-c02cafec1847"
      },
      "execution_count": 8,
      "outputs": [
        {
          "output_type": "stream",
          "name": "stdout",
          "text": [
            "That location exists\n",
            "That is a file\n"
          ]
        }
      ]
    },
    {
      "cell_type": "code",
      "source": [
        "path = '/content/folder'\n",
        "if os.path.exists(path):\n",
        "  print('That location exists')\n",
        "  if os.path.isfile(path):\n",
        "    print('That is a file')\n",
        "else:\n",
        "  print('That location does\\'nt exist')"
      ],
      "metadata": {
        "colab": {
          "base_uri": "https://localhost:8080/"
        },
        "id": "zJJvnTovQpUW",
        "outputId": "09efc742-ea7f-4072-8439-694125cb0e55"
      },
      "execution_count": 9,
      "outputs": [
        {
          "output_type": "stream",
          "name": "stdout",
          "text": [
            "That location exists\n"
          ]
        }
      ]
    },
    {
      "cell_type": "code",
      "source": [
        "path = '/content/folder'\n",
        "if os.path.exists(path):\n",
        "  print('That location exists')\n",
        "  if os.path.isfile(path):\n",
        "    print('That is a file')\n",
        "  elif os.path.isdir(path):\n",
        "    print('That is a directory')\n",
        "else:\n",
        "  print('That location does\\'nt exist')"
      ],
      "metadata": {
        "colab": {
          "base_uri": "https://localhost:8080/"
        },
        "id": "tfuRbRF2R9IV",
        "outputId": "36c93b45-947d-4212-b069-bd1b17f30672"
      },
      "execution_count": 10,
      "outputs": [
        {
          "output_type": "stream",
          "name": "stdout",
          "text": [
            "That location exists\n",
            "That is a directory\n"
          ]
        }
      ]
    },
    {
      "cell_type": "code",
      "source": [],
      "metadata": {
        "id": "gSJfRFKiSFbl"
      },
      "execution_count": null,
      "outputs": []
    }
  ]
}