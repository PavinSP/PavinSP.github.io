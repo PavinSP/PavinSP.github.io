{
  "nbformat": 4,
  "nbformat_minor": 0,
  "metadata": {
    "colab": {
      "provenance": [],
      "authorship_tag": "ABX9TyPSK/aoYZ7Yj+OFtx2Qf3iA",
      "include_colab_link": true
    },
    "kernelspec": {
      "name": "python3",
      "display_name": "Python 3"
    },
    "language_info": {
      "name": "python"
    }
  },
  "cells": [
    {
      "cell_type": "markdown",
      "metadata": {
        "id": "view-in-github",
        "colab_type": "text"
      },
      "source": [
        "<a href=\"https://colab.research.google.com/github/PavinSP/PavinSP.github.io/blob/main/BroCode_Exception_Handling.ipynb\" target=\"_parent\"><img src=\"https://colab.research.google.com/assets/colab-badge.svg\" alt=\"Open In Colab\"/></a>"
      ]
    },
    {
      "cell_type": "markdown",
      "source": [
        "### Exception - events detected during execution that interrupts the flow of a program"
      ],
      "metadata": {
        "id": "4xRbjdEgu0p0"
      }
    },
    {
      "cell_type": "code",
      "execution_count": 6,
      "metadata": {
        "colab": {
          "base_uri": "https://localhost:8080/",
          "height": 263
        },
        "id": "F-oRuGm5uIo3",
        "outputId": "fb6334d2-5c48-4366-997f-157681563661"
      },
      "outputs": [
        {
          "name": "stdout",
          "output_type": "stream",
          "text": [
            "Enter the numerator: 5\n",
            "Enter the denominator: 0\n"
          ]
        },
        {
          "output_type": "error",
          "ename": "ZeroDivisionError",
          "evalue": "ignored",
          "traceback": [
            "\u001b[0;31m---------------------------------------------------------------------------\u001b[0m",
            "\u001b[0;31mZeroDivisionError\u001b[0m                         Traceback (most recent call last)",
            "\u001b[0;32m<ipython-input-6-3c13c355ea21>\u001b[0m in \u001b[0;36m<cell line: 3>\u001b[0;34m()\u001b[0m\n\u001b[1;32m      1\u001b[0m \u001b[0mnumerator\u001b[0m \u001b[0;34m=\u001b[0m \u001b[0mint\u001b[0m\u001b[0;34m(\u001b[0m\u001b[0minput\u001b[0m\u001b[0;34m(\u001b[0m\u001b[0;34m\"Enter the numerator: \"\u001b[0m\u001b[0;34m)\u001b[0m\u001b[0;34m)\u001b[0m\u001b[0;34m\u001b[0m\u001b[0;34m\u001b[0m\u001b[0m\n\u001b[1;32m      2\u001b[0m \u001b[0mdenominator\u001b[0m \u001b[0;34m=\u001b[0m \u001b[0mint\u001b[0m\u001b[0;34m(\u001b[0m\u001b[0minput\u001b[0m\u001b[0;34m(\u001b[0m\u001b[0;34m\"Enter the denominator: \"\u001b[0m\u001b[0;34m)\u001b[0m\u001b[0;34m)\u001b[0m\u001b[0;34m\u001b[0m\u001b[0;34m\u001b[0m\u001b[0m\n\u001b[0;32m----> 3\u001b[0;31m \u001b[0mresult\u001b[0m \u001b[0;34m=\u001b[0m \u001b[0mnumerator\u001b[0m \u001b[0;34m/\u001b[0m \u001b[0mdenominator\u001b[0m\u001b[0;34m\u001b[0m\u001b[0;34m\u001b[0m\u001b[0m\n\u001b[0m\u001b[1;32m      4\u001b[0m \u001b[0mprint\u001b[0m\u001b[0;34m(\u001b[0m\u001b[0mresult\u001b[0m\u001b[0;34m)\u001b[0m\u001b[0;34m\u001b[0m\u001b[0;34m\u001b[0m\u001b[0m\n",
            "\u001b[0;31mZeroDivisionError\u001b[0m: division by zero"
          ]
        }
      ],
      "source": [
        "numerator = int(input(\"Enter the numerator: \"))\n",
        "denominator = int(input(\"Enter the denominator: \"))\n",
        "result = numerator / denominator\n",
        "print(result)"
      ]
    },
    {
      "cell_type": "code",
      "source": [
        "try:\n",
        "  numerator = int(input(\"Enter the numerator: \"))\n",
        "  denominator = int(input(\"Enter the denominator: \"))\n",
        "  result = numerator / denominator\n",
        "  print(result)\n",
        "except Exception:\n",
        "  print('Something went wrong')"
      ],
      "metadata": {
        "colab": {
          "base_uri": "https://localhost:8080/"
        },
        "id": "wbmmpkSHvLId",
        "outputId": "d5c0439b-bba5-4e00-9376-191c9dd6c9e1"
      },
      "execution_count": 7,
      "outputs": [
        {
          "output_type": "stream",
          "name": "stdout",
          "text": [
            "Enter the numerator: 5\n",
            "Enter the denominator: 0\n",
            "Something went wrong\n"
          ]
        }
      ]
    },
    {
      "cell_type": "code",
      "source": [
        "try:\n",
        "  numerator = int(input(\"Enter the numerator: \"))\n",
        "  denominator = int(input(\"Enter the denominator: \"))\n",
        "  result = numerator / denominator\n",
        "  print(result)\n",
        "except ZeroDivisionError:\n",
        "  print('You cant divide by zero!')"
      ],
      "metadata": {
        "colab": {
          "base_uri": "https://localhost:8080/"
        },
        "id": "MPSqnnJ2vr6-",
        "outputId": "ec00ab66-6525-4060-af9d-58b220d76517"
      },
      "execution_count": 8,
      "outputs": [
        {
          "output_type": "stream",
          "name": "stdout",
          "text": [
            "Enter the numerator: 5\n",
            "Enter the denominator: 0\n",
            "You cant divide by zero!\n"
          ]
        }
      ]
    },
    {
      "cell_type": "code",
      "source": [
        "numerator = int(input(\"Enter the numerator: \"))\n",
        "denominator = int(input(\"Enter the denominator: \"))\n",
        "result = numerator / denominator\n",
        "print(result)"
      ],
      "metadata": {
        "colab": {
          "base_uri": "https://localhost:8080/",
          "height": 263
        },
        "id": "UR7iyBLGv-C0",
        "outputId": "5428486c-fd94-43ba-a6a6-885c59dfd46b"
      },
      "execution_count": 9,
      "outputs": [
        {
          "name": "stdout",
          "output_type": "stream",
          "text": [
            "Enter the numerator: 5\n",
            "Enter the denominator: pizza\n"
          ]
        },
        {
          "output_type": "error",
          "ename": "ValueError",
          "evalue": "ignored",
          "traceback": [
            "\u001b[0;31m---------------------------------------------------------------------------\u001b[0m",
            "\u001b[0;31mValueError\u001b[0m                                Traceback (most recent call last)",
            "\u001b[0;32m<ipython-input-9-b1aef8196c24>\u001b[0m in \u001b[0;36m<cell line: 2>\u001b[0;34m()\u001b[0m\n\u001b[1;32m      1\u001b[0m \u001b[0mnumerator\u001b[0m \u001b[0;34m=\u001b[0m \u001b[0mint\u001b[0m\u001b[0;34m(\u001b[0m\u001b[0minput\u001b[0m\u001b[0;34m(\u001b[0m\u001b[0;34m\"Enter the numerator: \"\u001b[0m\u001b[0;34m)\u001b[0m\u001b[0;34m)\u001b[0m\u001b[0;34m\u001b[0m\u001b[0;34m\u001b[0m\u001b[0m\n\u001b[0;32m----> 2\u001b[0;31m \u001b[0mdenominator\u001b[0m \u001b[0;34m=\u001b[0m \u001b[0mint\u001b[0m\u001b[0;34m(\u001b[0m\u001b[0minput\u001b[0m\u001b[0;34m(\u001b[0m\u001b[0;34m\"Enter the denominator: \"\u001b[0m\u001b[0;34m)\u001b[0m\u001b[0;34m)\u001b[0m\u001b[0;34m\u001b[0m\u001b[0;34m\u001b[0m\u001b[0m\n\u001b[0m\u001b[1;32m      3\u001b[0m \u001b[0mresult\u001b[0m \u001b[0;34m=\u001b[0m \u001b[0mnumerator\u001b[0m \u001b[0;34m/\u001b[0m \u001b[0mdenominator\u001b[0m\u001b[0;34m\u001b[0m\u001b[0;34m\u001b[0m\u001b[0m\n\u001b[1;32m      4\u001b[0m \u001b[0mprint\u001b[0m\u001b[0;34m(\u001b[0m\u001b[0mresult\u001b[0m\u001b[0;34m)\u001b[0m\u001b[0;34m\u001b[0m\u001b[0;34m\u001b[0m\u001b[0m\n",
            "\u001b[0;31mValueError\u001b[0m: invalid literal for int() with base 10: 'pizza'"
          ]
        }
      ]
    },
    {
      "cell_type": "code",
      "source": [
        "try:\n",
        "  numerator = int(input(\"Enter the numerator: \"))\n",
        "  denominator = int(input(\"Enter the denominator: \"))\n",
        "  result = numerator / denominator\n",
        "  print(result)\n",
        "except ZeroDivisionError:\n",
        "  print('You cant divide by zero!')\n",
        "except ValueError:\n",
        "  print('Enter only numbers please')\n",
        "except Exception:\n",
        "  print('Something went wrong')"
      ],
      "metadata": {
        "colab": {
          "base_uri": "https://localhost:8080/"
        },
        "id": "If-Su0g4wHTC",
        "outputId": "40086c7f-bb4f-40fb-fbd8-e83c68f66d44"
      },
      "execution_count": 11,
      "outputs": [
        {
          "output_type": "stream",
          "name": "stdout",
          "text": [
            "Enter the numerator: 5\n",
            "Enter the denominator: pizza\n",
            "Enter only numbers please\n"
          ]
        }
      ]
    },
    {
      "cell_type": "code",
      "source": [
        "try:\n",
        "  numerator = int(input(\"Enter the numerator: \"))\n",
        "  denominator = int(input(\"Enter the denominator: \"))\n",
        "  result = numerator / denominator\n",
        "  print(result)\n",
        "except ZeroDivisionError as e:\n",
        "  print(e)\n",
        "  print('You cant divide by zero!')\n",
        "except ValueError as e:\n",
        "  print(e)\n",
        "  print('Enter only numbers please')\n",
        "except Exception as e:\n",
        "  print(e)\n",
        "  print('Something went wrong')"
      ],
      "metadata": {
        "colab": {
          "base_uri": "https://localhost:8080/"
        },
        "id": "xcoqtpMrwfeh",
        "outputId": "94d43e83-c57a-4eba-84d5-eb069bf426fc"
      },
      "execution_count": 12,
      "outputs": [
        {
          "output_type": "stream",
          "name": "stdout",
          "text": [
            "Enter the numerator: 5\n",
            "Enter the denominator: 0\n",
            "division by zero\n",
            "You cant divide by zero!\n"
          ]
        }
      ]
    },
    {
      "cell_type": "code",
      "source": [
        "try:\n",
        "  numerator = int(input(\"Enter the numerator: \"))\n",
        "  denominator = int(input(\"Enter the denominator: \"))\n",
        "  result = numerator / denominator\n",
        "  print(result)\n",
        "except ZeroDivisionError as e:\n",
        "  print(e)\n",
        "  print('You cant divide by zero!')\n",
        "except ValueError as e:\n",
        "  print(e)\n",
        "  print('Enter only numbers please')\n",
        "except Exception as e:\n",
        "  print(e)\n",
        "  print('Something went wrong')"
      ],
      "metadata": {
        "colab": {
          "base_uri": "https://localhost:8080/"
        },
        "id": "jYUnfN9vw1Bi",
        "outputId": "36cb81da-6458-4c7c-a75d-1356dd5acdb2"
      },
      "execution_count": 13,
      "outputs": [
        {
          "output_type": "stream",
          "name": "stdout",
          "text": [
            "Enter the numerator: 5\n",
            "Enter the denominator: pizza\n",
            "invalid literal for int() with base 10: 'pizza'\n",
            "Enter only numbers please\n"
          ]
        }
      ]
    },
    {
      "cell_type": "code",
      "source": [
        "try:\n",
        "  numerator = int(input(\"Enter the numerator: \"))\n",
        "  denominator = int(input(\"Enter the denominator: \"))\n",
        "  result = numerator / denominator\n",
        "except ZeroDivisionError as e:\n",
        "  print(e)\n",
        "  print('You cant divide by zero!')\n",
        "except ValueError as e:\n",
        "  print(e)\n",
        "  print('Enter only numbers please')\n",
        "except Exception as e:\n",
        "  print(e)\n",
        "  print('Something went wrong')\n",
        "else:\n",
        "  print(result)"
      ],
      "metadata": {
        "colab": {
          "base_uri": "https://localhost:8080/"
        },
        "id": "rWK7DJahw5I7",
        "outputId": "6c182dcf-32b0-4172-ce8a-a1ba7ceb6e7f"
      },
      "execution_count": 14,
      "outputs": [
        {
          "output_type": "stream",
          "name": "stdout",
          "text": [
            "Enter the numerator: 5\n",
            "Enter the denominator: 5\n",
            "1.0\n"
          ]
        }
      ]
    },
    {
      "cell_type": "code",
      "source": [
        "try:\n",
        "  numerator = int(input(\"Enter the numerator: \"))\n",
        "  denominator = int(input(\"Enter the denominator: \"))\n",
        "  result = numerator / denominator\n",
        "except ZeroDivisionError as e:\n",
        "  print(e)\n",
        "  print('You cant divide by zero!')\n",
        "except ValueError as e:\n",
        "  print(e)\n",
        "  print('Enter only numbers please')\n",
        "except Exception as e:\n",
        "  print(e)\n",
        "  print('Something went wrong')\n",
        "else:\n",
        "  print(result)\n",
        "finally: # code is executed whether or not the code had error or not\n",
        "  print('This will always be executed')"
      ],
      "metadata": {
        "colab": {
          "base_uri": "https://localhost:8080/"
        },
        "id": "m6MpO7cGxEFh",
        "outputId": "2231f742-dc56-46e9-c643-5e2c3215735c"
      },
      "execution_count": 15,
      "outputs": [
        {
          "output_type": "stream",
          "name": "stdout",
          "text": [
            "Enter the numerator: 5\n",
            "Enter the denominator: 0\n",
            "division by zero\n",
            "You cant divide by zero!\n",
            "This will always be executed\n"
          ]
        }
      ]
    },
    {
      "cell_type": "code",
      "source": [
        "try:\n",
        "  numerator = int(input(\"Enter the numerator: \"))\n",
        "  denominator = int(input(\"Enter the denominator: \"))\n",
        "  result = numerator / denominator\n",
        "except ZeroDivisionError as e:\n",
        "  print(e)\n",
        "  print('You cant divide by zero!')\n",
        "except ValueError as e:\n",
        "  print(e)\n",
        "  print('Enter only numbers please')\n",
        "except Exception as e:\n",
        "  print(e)\n",
        "  print('Something went wrong')\n",
        "else:\n",
        "  print(result)\n",
        "finally: # code is executed whether or not the code had error or not\n",
        "  print('This will always be executed')"
      ],
      "metadata": {
        "colab": {
          "base_uri": "https://localhost:8080/"
        },
        "id": "1CI_hvFCxan1",
        "outputId": "7289b5dc-4247-46bb-e00a-56009fb5e2c7"
      },
      "execution_count": 16,
      "outputs": [
        {
          "output_type": "stream",
          "name": "stdout",
          "text": [
            "Enter the numerator: 5\n",
            "Enter the denominator: 2\n",
            "2.5\n",
            "This will always be executed\n"
          ]
        }
      ]
    },
    {
      "cell_type": "code",
      "source": [],
      "metadata": {
        "id": "uk0hR5VMxfQ9"
      },
      "execution_count": null,
      "outputs": []
    }
  ]
}