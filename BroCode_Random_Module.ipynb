{
  "nbformat": 4,
  "nbformat_minor": 0,
  "metadata": {
    "colab": {
      "provenance": [],
      "authorship_tag": "ABX9TyNFp4pOmW7h2nonjzziMevY",
      "include_colab_link": true
    },
    "kernelspec": {
      "name": "python3",
      "display_name": "Python 3"
    },
    "language_info": {
      "name": "python"
    }
  },
  "cells": [
    {
      "cell_type": "markdown",
      "metadata": {
        "id": "view-in-github",
        "colab_type": "text"
      },
      "source": [
        "<a href=\"https://colab.research.google.com/github/PavinSP/PavinSP.github.io/blob/main/BroCode_Random_Module.ipynb\" target=\"_parent\"><img src=\"https://colab.research.google.com/assets/colab-badge.svg\" alt=\"Open In Colab\"/></a>"
      ]
    },
    {
      "cell_type": "code",
      "execution_count": 1,
      "metadata": {
        "id": "_g7VUC17pMyL"
      },
      "outputs": [],
      "source": [
        "import random"
      ]
    },
    {
      "cell_type": "markdown",
      "source": [
        "## Generating a random integer"
      ],
      "metadata": {
        "id": "_AOLv7c2pxBQ"
      }
    },
    {
      "cell_type": "code",
      "source": [
        "x = random.randint(1, 6)\n",
        "x"
      ],
      "metadata": {
        "colab": {
          "base_uri": "https://localhost:8080/"
        },
        "id": "JDioI0HJpmXu",
        "outputId": "44d21143-ad7b-4d39-c5f8-55e786d9c17f"
      },
      "execution_count": 3,
      "outputs": [
        {
          "output_type": "execute_result",
          "data": {
            "text/plain": [
              "3"
            ]
          },
          "metadata": {},
          "execution_count": 3
        }
      ]
    },
    {
      "cell_type": "markdown",
      "source": [
        "## Generating a random floating point number"
      ],
      "metadata": {
        "id": "Q8lFBngBp0bN"
      }
    },
    {
      "cell_type": "code",
      "source": [
        "y = random.random()\n",
        "y # gives a random number between 0 and 1"
      ],
      "metadata": {
        "colab": {
          "base_uri": "https://localhost:8080/"
        },
        "id": "aShg2RxmpsRM",
        "outputId": "aac0affe-8a04-4e2e-80ab-fe02154e7d9c"
      },
      "execution_count": 6,
      "outputs": [
        {
          "output_type": "execute_result",
          "data": {
            "text/plain": [
              "0.167125648691818"
            ]
          },
          "metadata": {},
          "execution_count": 6
        }
      ]
    },
    {
      "cell_type": "markdown",
      "source": [
        "## Generating a random choice from a list or a collection"
      ],
      "metadata": {
        "id": "6j20eReFroi9"
      }
    },
    {
      "cell_type": "code",
      "source": [
        "my_list = ['rock', 'paper', 'scissors']"
      ],
      "metadata": {
        "id": "pOwKJwMGp6Zn"
      },
      "execution_count": 7,
      "outputs": []
    },
    {
      "cell_type": "code",
      "source": [
        "z = random.choice(my_list)\n",
        "z"
      ],
      "metadata": {
        "colab": {
          "base_uri": "https://localhost:8080/",
          "height": 35
        },
        "id": "EBrCjB63rzEV",
        "outputId": "7aa9993b-a5f1-4667-c4ca-0beb8a161295"
      },
      "execution_count": 9,
      "outputs": [
        {
          "output_type": "execute_result",
          "data": {
            "text/plain": [
              "'rock'"
            ],
            "application/vnd.google.colaboratory.intrinsic+json": {
              "type": "string"
            }
          },
          "metadata": {},
          "execution_count": 9
        }
      ]
    },
    {
      "cell_type": "markdown",
      "source": [
        "## Shuffle method"
      ],
      "metadata": {
        "id": "DSnqk6Yur-CB"
      }
    },
    {
      "cell_type": "code",
      "source": [
        "cards = [1, 2, 3, 4, 5, 6, 7, 8, 9, 'J', 'Q', 'K', 'A']\n",
        "random.shuffle(cards)"
      ],
      "metadata": {
        "id": "PkJBN8sFr2Px"
      },
      "execution_count": 13,
      "outputs": []
    },
    {
      "cell_type": "code",
      "source": [
        "cards"
      ],
      "metadata": {
        "colab": {
          "base_uri": "https://localhost:8080/"
        },
        "id": "G9cu0iWWsN7w",
        "outputId": "012c1ad9-f75d-43a0-95d2-2c46de1aea36"
      },
      "execution_count": 14,
      "outputs": [
        {
          "output_type": "execute_result",
          "data": {
            "text/plain": [
              "[2, 'J', 6, 'K', 4, 'Q', 'A', 3, 5, 1, 7, 8, 9]"
            ]
          },
          "metadata": {},
          "execution_count": 14
        }
      ]
    }
  ]
}